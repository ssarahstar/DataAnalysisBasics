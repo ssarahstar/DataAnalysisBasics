{
  "nbformat": 4,
  "nbformat_minor": 0,
  "metadata": {
    "colab": {
      "provenance": [],
      "authorship_tag": "ABX9TyMMfEr2d9dw/3pn5JPmHZX+",
      "include_colab_link": true
    },
    "kernelspec": {
      "name": "python3",
      "display_name": "Python 3"
    },
    "language_info": {
      "name": "python"
    }
  },
  "cells": [
    {
      "cell_type": "markdown",
      "metadata": {
        "id": "view-in-github",
        "colab_type": "text"
      },
      "source": [
        "<a href=\"https://colab.research.google.com/github/ssarahstar/DataAnalysisBasics/blob/main/20221103_3.ipynb\" target=\"_parent\"><img src=\"https://colab.research.google.com/assets/colab-badge.svg\" alt=\"Open In Colab\"/></a>"
      ]
    },
    {
      "cell_type": "code",
      "execution_count": null,
      "metadata": {
        "colab": {
          "base_uri": "https://localhost:8080/"
        },
        "id": "GzQTEruXfMtC",
        "outputId": "f0ebe665-79a4-47d5-9f94-32c2ebe15dbe"
      },
      "outputs": [
        {
          "output_type": "stream",
          "name": "stdout",
          "text": [
            "Reading package lists... Done\n",
            "Building dependency tree       \n",
            "Reading state information... Done\n",
            "The following package was automatically installed and is no longer required:\n",
            "  libnvidia-common-460\n",
            "Use 'sudo apt autoremove' to remove it.\n",
            "The following NEW packages will be installed:\n",
            "  fonts-nanum\n",
            "0 upgraded, 1 newly installed, 0 to remove and 4 not upgraded.\n",
            "Need to get 9,604 kB of archives.\n",
            "After this operation, 29.5 MB of additional disk space will be used.\n",
            "Get:1 http://archive.ubuntu.com/ubuntu bionic/universe amd64 fonts-nanum all 20170925-1 [9,604 kB]\n",
            "Fetched 9,604 kB in 1s (7,722 kB/s)\n",
            "debconf: unable to initialize frontend: Dialog\n",
            "debconf: (No usable dialog-like program is installed, so the dialog based frontend cannot be used. at /usr/share/perl5/Debconf/FrontEnd/Dialog.pm line 76, <> line 1.)\n",
            "debconf: falling back to frontend: Readline\n",
            "debconf: unable to initialize frontend: Readline\n",
            "debconf: (This frontend requires a controlling tty.)\n",
            "debconf: falling back to frontend: Teletype\n",
            "dpkg-preconfigure: unable to re-open stdin: \n",
            "Selecting previously unselected package fonts-nanum.\n",
            "(Reading database ... 123942 files and directories currently installed.)\n",
            "Preparing to unpack .../fonts-nanum_20170925-1_all.deb ...\n",
            "Unpacking fonts-nanum (20170925-1) ...\n",
            "Setting up fonts-nanum (20170925-1) ...\n",
            "Processing triggers for fontconfig (2.12.6-0ubuntu2) ...\n",
            "/usr/share/fonts: caching, new cache contents: 0 fonts, 1 dirs\n",
            "/usr/share/fonts/truetype: caching, new cache contents: 0 fonts, 3 dirs\n",
            "/usr/share/fonts/truetype/humor-sans: caching, new cache contents: 1 fonts, 0 dirs\n",
            "/usr/share/fonts/truetype/liberation: caching, new cache contents: 16 fonts, 0 dirs\n",
            "/usr/share/fonts/truetype/nanum: caching, new cache contents: 10 fonts, 0 dirs\n",
            "/usr/local/share/fonts: caching, new cache contents: 0 fonts, 0 dirs\n",
            "/root/.local/share/fonts: skipping, no such directory\n",
            "/root/.fonts: skipping, no such directory\n",
            "/var/cache/fontconfig: cleaning cache directory\n",
            "/root/.cache/fontconfig: not cleaning non-existent cache directory\n",
            "/root/.fontconfig: not cleaning non-existent cache directory\n",
            "fc-cache: succeeded\n"
          ]
        }
      ],
      "source": [
        "!sudo apt-get install -y fonts-nanum\n",
        "!sudo fc-cache -fv\n",
        "!rm ~/.cache/matplotlib -rf"
      ]
    },
    {
      "cell_type": "code",
      "source": [
        "import seaborn as sns\n",
        "import matplotlib.pyplot as plt\n",
        "plt.rc('font', family='NanumBarunGothic')"
      ],
      "metadata": {
        "id": "vsryIa_GfbmL"
      },
      "execution_count": null,
      "outputs": []
    },
    {
      "cell_type": "code",
      "source": [
        "지역 = ['서울', '부산', '제주']\n",
        "인원 = [100, 90, 80]\n",
        "plt.bar( 지역, 인원 )\n",
        "plt.show()"
      ],
      "metadata": {
        "colab": {
          "base_uri": "https://localhost:8080/",
          "height": 265
        },
        "id": "6rBClefvfx06",
        "outputId": "d7bbd1e9-36d8-4d65-e288-f0198a64e9f1"
      },
      "execution_count": null,
      "outputs": [
        {
          "output_type": "display_data",
          "data": {
            "text/plain": [
              "<Figure size 432x288 with 1 Axes>"
            ],
            "image/png": "[encoded data removed]"
          },
          "metadata": {
            "needs_background": "light"
          }
        }
      ]
    },
    {
      "cell_type": "code",
      "source": [
        "import pandas as pd\n",
        "aptData=pd.read_excel('동작구2021실거래.xlsx')\n",
        "aptData"
      ],
      "metadata": {
        "colab": {
          "base_uri": "https://localhost:8080/",
          "height": 424
        },
        "id": "8oA9ChDAf826",
        "outputId": "fe33dd55-f301-4f90-86e5-89223f3e6ec6"
      },
      "execution_count": null,
      "outputs": [
        {
          "output_type": "execute_result",
          "data": {
            "text/plain": [
              "                 시군구   번지   본번  부번            단지명         평수  전용면적(㎡)    계약년월  \\\n",
              "0     서울특별시 동작구 노량진동  324  324   0  건영(103동-106동)  25.739394    84.94  202101   \n",
              "1     서울특별시 동작구 노량진동  324  324   0  건영(103동-106동)  25.739394    84.94  202102   \n",
              "2     서울특별시 동작구 노량진동  324  324   0  건영(103동-106동)  25.739394    84.94  202102   \n",
              "3     서울특별시 동작구 노량진동  324  324   0  건영(103동-106동)  34.836364   114.96  202102   \n",
              "4     서울특별시 동작구 노량진동  324  324   0  건영(103동-106동)  25.739394    84.94  202104   \n",
              "...              ...  ...  ...  ..            ...        ...      ...     ...   \n",
              "1537   서울특별시 동작구 흑석동  336  336   0       흑석한강푸르지오  25.751515    84.98  202108   \n",
              "1538   서울특별시 동작구 흑석동  336  336   0       흑석한강푸르지오  25.751515    84.98  202108   \n",
              "1539   서울특별시 동작구 흑석동  336  336   0       흑석한강푸르지오  25.751515    84.98  202110   \n",
              "1540   서울특별시 동작구 흑석동  336  336   0       흑석한강푸르지오  25.751515    84.98  202110   \n",
              "1541   서울특별시 동작구 흑석동  336  336   0       흑석한강푸르지오  35.145455   115.98  202111   \n",
              "\n",
              "      계약일  거래금액(억)  거래금액(만원)   층  건축년도       도로명  \n",
              "0      30    10.40    104000   3  1997    만양로 26  \n",
              "1       2    10.45    104500  16  1997    만양로 26  \n",
              "2       4    10.00    100000   9  1997    만양로 26  \n",
              "3       6    11.38    113800   4  1997    만양로 26  \n",
              "4      24    10.45    104500  12  1997    만양로 26  \n",
              "...   ...      ...       ...  ..   ...       ...  \n",
              "1537   20    17.20    172000  14  2012  흑석한강로 27  \n",
              "1538   28    17.20    172000   9  2012  흑석한강로 27  \n",
              "1539   16    17.10    171000  16  2012  흑석한강로 27  \n",
              "1540   18    18.00    180000   8  2012  흑석한강로 27  \n",
              "1541   27    19.60    196000   5  2012  흑석한강로 27  \n",
              "\n",
              "[1542 rows x 14 columns]"
            ],
            "text/html": [
              "\n",
              "  <div id=\"df-42ece630-3ab6-42bf-9466-bd808285ef2e\">\n",
              "    <div class=\"colab-df-container\">\n",
              "      <div>\n",
              "<style scoped>\n",
              "    .dataframe tbody tr th:only-of-type {\n",
              "        vertical-align: middle;\n",
              "    }\n",
              "\n",
              "    .dataframe tbody tr th {\n",
              "        vertical-align: top;\n",
              "    }\n",
              "\n",
              "    .dataframe thead th {\n",
              "        text-align: right;\n",
              "    }\n",
              "</style>\n",
              "<table border=\"1\" class=\"dataframe\">\n",
              "  <thead>\n",
              "    <tr style=\"text-align: right;\">\n",
              "      <th></th>\n",
              "      <th>시군구</th>\n",
              "      <th>번지</th>\n",
              "      <th>본번</th>\n",
              "      <th>부번</th>\n",
              "      <th>단지명</th>\n",
              "      <th>평수</th>\n",
              "      <th>전용면적(㎡)</th>\n",
              "      <th>계약년월</th>\n",
              "      <th>계약일</th>\n",
              "      <th>거래금액(억)</th>\n",
              "      <th>거래금액(만원)</th>\n",
              "      <th>층</th>\n",
              "      <th>건축년도</th>\n",
              "      <th>도로명</th>\n",
              "    </tr>\n",
              "  </thead>\n",
              "  <tbody>\n",
              "    <tr>\n",
              "      <th>0</th>\n",
              "      <td>서울특별시 동작구 노량진동</td>\n",
              "      <td>324</td>\n",
              "      <td>324</td>\n",
              "      <td>0</td>\n",
              "      <td>건영(103동-106동)</td>\n",
              "      <td>25.739394</td>\n",
              "      <td>84.94</td>\n",
              "      <td>202101</td>\n",
              "      <td>30</td>\n",
              "      <td>10.40</td>\n",
              "      <td>104000</td>\n",
              "      <td>3</td>\n",
              "      <td>1997</td>\n",
              "      <td>만양로 26</td>\n",
              "    </tr>\n",
              "    <tr>\n",
              "      <th>1</th>\n",
              "      <td>서울특별시 동작구 노량진동</td>\n",
              "      <td>324</td>\n",
              "      <td>324</td>\n",
              "      <td>0</td>\n",
              "      <td>건영(103동-106동)</td>\n",
              "      <td>25.739394</td>\n",
              "      <td>84.94</td>\n",
              "      <td>202102</td>\n",
              "      <td>2</td>\n",
              "      <td>10.45</td>\n",
              "      <td>104500</td>\n",
              "      <td>16</td>\n",
              "      <td>1997</td>\n",
              "      <td>만양로 26</td>\n",
              "    </tr>\n",
              "    <tr>\n",
              "      <th>2</th>\n",
              "      <td>서울특별시 동작구 노량진동</td>\n",
              "      <td>324</td>\n",
              "      <td>324</td>\n",
              "      <td>0</td>\n",
              "      <td>건영(103동-106동)</td>\n",
              "      <td>25.739394</td>\n",
              "      <td>84.94</td>\n",
              "      <td>202102</td>\n",
              "      <td>4</td>\n",
              "      <td>10.00</td>\n",
              "      <td>100000</td>\n",
              "      <td>9</td>\n",
              "      <td>1997</td>\n",
              "      <td>만양로 26</td>\n",
              "    </tr>\n",
              "    <tr>\n",
              "      <th>3</th>\n",
              "      <td>서울특별시 동작구 노량진동</td>\n",
              "      <td>324</td>\n",
              "      <td>324</td>\n",
              "      <td>0</td>\n",
              "      <td>건영(103동-106동)</td>\n",
              "      <td>34.836364</td>\n",
              "      <td>114.96</td>\n",
              "      <td>202102</td>\n",
              "      <td>6</td>\n",
              "      <td>11.38</td>\n",
              "      <td>113800</td>\n",
              "      <td>4</td>\n",
              "      <td>1997</td>\n",
              "      <td>만양로 26</td>\n",
              "    </tr>\n",
              "    <tr>\n",
              "      <th>4</th>\n",
              "      <td>서울특별시 동작구 노량진동</td>\n",
              "      <td>324</td>\n",
              "      <td>324</td>\n",
              "      <td>0</td>\n",
              "      <td>건영(103동-106동)</td>\n",
              "      <td>25.739394</td>\n",
              "      <td>84.94</td>\n",
              "      <td>202104</td>\n",
              "      <td>24</td>\n",
              "      <td>10.45</td>\n",
              "      <td>104500</td>\n",
              "      <td>12</td>\n",
              "      <td>1997</td>\n",
              "      <td>만양로 26</td>\n",
              "    </tr>\n",
              "    <tr>\n",
              "      <th>...</th>\n",
              "      <td>...</td>\n",
              "      <td>...</td>\n",
              "      <td>...</td>\n",
              "      <td>...</td>\n",
              "      <td>...</td>\n",
              "      <td>...</td>\n",
              "      <td>...</td>\n",
              "      <td>...</td>\n",
              "      <td>...</td>\n",
              "      <td>...</td>\n",
              "      <td>...</td>\n",
              "      <td>...</td>\n",
              "      <td>...</td>\n",
              "      <td>...</td>\n",
              "    </tr>\n",
              "    <tr>\n",
              "      <th>1537</th>\n",
              "      <td>서울특별시 동작구 흑석동</td>\n",
              "      <td>336</td>\n",
              "      <td>336</td>\n",
              "      <td>0</td>\n",
              "      <td>흑석한강푸르지오</td>\n",
              "      <td>25.751515</td>\n",
              "      <td>84.98</td>\n",
              "      <td>202108</td>\n",
              "      <td>20</td>\n",
              "      <td>17.20</td>\n",
              "      <td>172000</td>\n",
              "      <td>14</td>\n",
              "      <td>2012</td>\n",
              "      <td>흑석한강로 27</td>\n",
              "    </tr>\n",
              "    <tr>\n",
              "      <th>1538</th>\n",
              "      <td>서울특별시 동작구 흑석동</td>\n",
              "      <td>336</td>\n",
              "      <td>336</td>\n",
              "      <td>0</td>\n",
              "      <td>흑석한강푸르지오</td>\n",
              "      <td>25.751515</td>\n",
              "      <td>84.98</td>\n",
              "      <td>202108</td>\n",
              "      <td>28</td>\n",
              "      <td>17.20</td>\n",
              "      <td>172000</td>\n",
              "      <td>9</td>\n",
              "      <td>2012</td>\n",
              "      <td>흑석한강로 27</td>\n",
              "    </tr>\n",
              "    <tr>\n",
              "      <th>1539</th>\n",
              "      <td>서울특별시 동작구 흑석동</td>\n",
              "      <td>336</td>\n",
              "      <td>336</td>\n",
              "      <td>0</td>\n",
              "      <td>흑석한강푸르지오</td>\n",
              "      <td>25.751515</td>\n",
              "      <td>84.98</td>\n",
              "      <td>202110</td>\n",
              "      <td>16</td>\n",
              "      <td>17.10</td>\n",
              "      <td>171000</td>\n",
              "      <td>16</td>\n",
              "      <td>2012</td>\n",
              "      <td>흑석한강로 27</td>\n",
              "    </tr>\n",
              "    <tr>\n",
              "      <th>1540</th>\n",
              "      <td>서울특별시 동작구 흑석동</td>\n",
              "      <td>336</td>\n",
              "      <td>336</td>\n",
              "      <td>0</td>\n",
              "      <td>흑석한강푸르지오</td>\n",
              "      <td>25.751515</td>\n",
              "      <td>84.98</td>\n",
              "      <td>202110</td>\n",
              "      <td>18</td>\n",
              "      <td>18.00</td>\n",
              "      <td>180000</td>\n",
              "      <td>8</td>\n",
              "      <td>2012</td>\n",
              "      <td>흑석한강로 27</td>\n",
              "    </tr>\n",
              "    <tr>\n",
              "      <th>1541</th>\n",
              "      <td>서울특별시 동작구 흑석동</td>\n",
              "      <td>336</td>\n",
              "      <td>336</td>\n",
              "      <td>0</td>\n",
              "      <td>흑석한강푸르지오</td>\n",
              "      <td>35.145455</td>\n",
              "      <td>115.98</td>\n",
              "      <td>202111</td>\n",
              "      <td>27</td>\n",
              "      <td>19.60</td>\n",
              "      <td>196000</td>\n",
              "      <td>5</td>\n",
              "      <td>2012</td>\n",
              "      <td>흑석한강로 27</td>\n",
              "    </tr>\n",
              "  </tbody>\n",
              "</table>\n",
              "<p>1542 rows × 14 columns</p>\n",
              "</div>\n",
              "      <button class=\"colab-df-convert\" onclick=\"convertToInteractive('df-42ece630-3ab6-42bf-9466-bd808285ef2e')\"\n",
              "              title=\"Convert this dataframe to an interactive table.\"\n",
              "              style=\"display:none;\">\n",
              "        \n",
              "  <svg xmlns=\"http://www.w3.org/2000/svg\" height=\"24px\"viewBox=\"0 0 24 24\"\n",
              "       width=\"24px\">\n",
              "    <path d=\"M0 0h24v24H0V0z\" fill=\"none\"/>\n",
              "    <path d=\"M18.56 5.44l.94 2.06.94-2.06 2.06-.94-2.06-.94-.94-2.06-.94 2.06-2.06.94zm-11 1L8.5 8.5l.94-2.06 2.06-.94-2.06-.94L8.5 2.5l-.94 2.06-2.06.94zm10 10l.94 2.06.94-2.06 2.06-.94-2.06-.94-.94-2.06-.94 2.06-2.06.94z\"/><path d=\"M17.41 7.96l-1.37-1.37c-.4-.4-.92-.59-1.43-.59-.52 0-1.04.2-1.43.59L10.3 9.45l-7.72 7.72c-.78.78-.78 2.05 0 2.83L4 21.41c.39.39.9.59 1.41.59.51 0 1.02-.2 1.41-.59l7.78-7.78 2.81-2.81c.8-.78.8-2.07 0-2.86zM5.41 20L4 18.59l7.72-7.72 1.47 1.35L5.41 20z\"/>\n",
              "  </svg>\n",
              "      </button>\n",
              "      \n",
              "  <style>\n",
              "    .colab-df-container {\n",
              "      display:flex;\n",
              "      flex-wrap:wrap;\n",
              "      gap: 12px;\n",
              "    }\n",
              "\n",
              "    .colab-df-convert {\n",
              "      background-color: #E8F0FE;\n",
              "      border: none;\n",
              "      border-radius: 50%;\n",
              "      cursor: pointer;\n",
              "      display: none;\n",
              "      fill: #1967D2;\n",
              "      height: 32px;\n",
              "      padding: 0 0 0 0;\n",
              "      width: 32px;\n",
              "    }\n",
              "\n",
              "    .colab-df-convert:hover {\n",
              "      background-color: #E2EBFA;\n",
              "      box-shadow: 0px 1px 2px rgba(60, 64, 67, 0.3), 0px 1px 3px 1px rgba(60, 64, 67, 0.15);\n",
              "      fill: #174EA6;\n",
              "    }\n",
              "\n",
              "    [theme=dark] .colab-df-convert {\n",
              "      background-color: #3B4455;\n",
              "      fill: #D2E3FC;\n",
              "    }\n",
              "\n",
              "    [theme=dark] .colab-df-convert:hover {\n",
              "      background-color: #434B5C;\n",
              "      box-shadow: 0px 1px 3px 1px rgba(0, 0, 0, 0.15);\n",
              "      filter: drop-shadow(0px 1px 2px rgba(0, 0, 0, 0.3));\n",
              "      fill: #FFFFFF;\n",
              "    }\n",
              "  </style>\n",
              "\n",
              "      <script>\n",
              "        const buttonEl =\n",
              "          document.querySelector('#df-42ece630-3ab6-42bf-9466-bd808285ef2e button.colab-df-convert');\n",
              "        buttonEl.style.display =\n",
              "          google.colab.kernel.accessAllowed ? 'block' : 'none';\n",
              "\n",
              "        async function convertToInteractive(key) {\n",
              "          const element = document.querySelector('#df-42ece630-3ab6-42bf-9466-bd808285ef2e');\n",
              "          const dataTable =\n",
              "            await google.colab.kernel.invokeFunction('convertToInteractive',\n",
              "                                                     [key], {});\n",
              "          if (!dataTable) return;\n",
              "\n",
              "          const docLinkHtml = 'Like what you see? Visit the ' +\n",
              "            '<a target=\"_blank\" href=https://colab.research.google.com/notebooks/data_table.ipynb>data table notebook</a>'\n",
              "            + ' to learn more about interactive tables.';\n",
              "          element.innerHTML = '';\n",
              "          dataTable['output_type'] = 'display_data';\n",
              "          await google.colab.output.renderOutput(dataTable, element);\n",
              "          const docLink = document.createElement('div');\n",
              "          docLink.innerHTML = docLinkHtml;\n",
              "          element.appendChild(docLink);\n",
              "        }\n",
              "      </script>\n",
              "    </div>\n",
              "  </div>\n",
              "  "
            ]
          },
          "metadata": {},
          "execution_count": 5
        }
      ]
    },
    {
      "cell_type": "code",
      "source": [
        "sns.relplot(data=aptData, x='건축년도', y='거래금액(억)');"
      ],
      "metadata": {
        "colab": {
          "base_uri": "https://localhost:8080/",
          "height": 369
        },
        "id": "i06oY3Y4gkJ6",
        "outputId": "c64c91b6-1adb-485a-e07f-9f96e6f18948"
      },
      "execution_count": null,
      "outputs": [
        {
          "output_type": "display_data",
          "data": {
            "text/plain": [
              "<Figure size 360x360 with 1 Axes>"
            ],
            "image/png": "[encoded data removed]"
          },
          "metadata": {
            "needs_background": "light"
          }
        }
      ]
    },
    {
      "cell_type": "code",
      "source": [
        "sns.relplot(data=aptData, x='건축년도', y='거래금액(억)', hue='평수');\n"
      ],
      "metadata": {
        "colab": {
          "base_uri": "https://localhost:8080/",
          "height": 369
        },
        "id": "XlZ24Hy2g9q8",
        "outputId": "46ee4a19-8bad-4036-b5df-ee5a6a500f91"
      },
      "execution_count": null,
      "outputs": [
        {
          "output_type": "display_data",
          "data": {
            "text/plain": [
              "<Figure size 407.875x360 with 1 Axes>"
            ],
            "image/png": "[encoded data removed]"
          },
          "metadata": {
            "needs_background": "light"
          }
        }
      ]
    },
    {
      "cell_type": "code",
      "source": [],
      "metadata": {
        "id": "VourEji5hCgO"
      },
      "execution_count": null,
      "outputs": []
    }
  ]
}